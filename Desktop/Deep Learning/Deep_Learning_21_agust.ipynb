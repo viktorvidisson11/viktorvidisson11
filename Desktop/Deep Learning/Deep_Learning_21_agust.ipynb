{
  "nbformat": 4,
  "nbformat_minor": 0,
  "metadata": {
    "colab": {
      "name": "Deep Learning 21.agust.ipynb",
      "version": "0.3.2",
      "provenance": []
    },
    "kernelspec": {
      "name": "python3",
      "display_name": "Python 3"
    },
    "accelerator": "GPU"
  },
  "cells": [
    {
      "cell_type": "code",
      "metadata": {
        "id": "PzC2iQPkE6kf",
        "colab_type": "code",
        "colab": {}
      },
      "source": [
        ""
      ],
      "execution_count": 0,
      "outputs": []
    },
    {
      "cell_type": "markdown",
      "metadata": {
        "id": "v_q1PkdQHQz3",
        "colab_type": "text"
      },
      "source": [
        "Training a NN to identify hand-written digits."
      ]
    },
    {
      "cell_type": "code",
      "metadata": {
        "id": "-j5n-HpbFF-I",
        "colab_type": "code",
        "colab": {
          "base_uri": "https://localhost:8080/",
          "height": 68
        },
        "outputId": "5d21e39e-9774-4567-fae9-8852e283ae80"
      },
      "source": [
        "\"\"\"\n",
        "Training a NN for MNIST dataset.\n",
        "\n",
        "Using\n",
        "- Keras\n",
        "- Tensorflow\n",
        "- NumPy\n",
        "- \n",
        "\"\"\"\n",
        "import keras\n",
        "from keras.datasets import mnist\n",
        "\n",
        "(x_train, y_train), (x_test, y_test) = mnist.load_data()\n",
        "print(x_train.shape, y_train.shape)\n"
      ],
      "execution_count": 2,
      "outputs": [
        {
          "output_type": "stream",
          "text": [
            "Downloading data from https://s3.amazonaws.com/img-datasets/mnist.npz\n",
            "11493376/11490434 [==============================] - 2s 0us/step\n",
            "(60000, 28, 28) (60000,)\n"
          ],
          "name": "stdout"
        }
      ]
    },
    {
      "cell_type": "code",
      "metadata": {
        "id": "oE-bBWDQFb8C",
        "colab_type": "code",
        "colab": {
          "base_uri": "https://localhost:8080/",
          "height": 51
        },
        "outputId": "bf336ba7-55f6-4765-bbb1-929c28311dc1"
      },
      "source": [
        "\"\"\"\n",
        "Reforming the input and output to fit the input/output layers of my NN.\n",
        "\"\"\"\n",
        "\n",
        "x_train = x_train.reshape(60000,784)\n",
        "x_test = x_test.reshape(10000,784)\n",
        "x_train = x_train.astype('float32')\n",
        "x_test = x_test.astype('float32')\n",
        "x_train /= 255\n",
        "x_test /= 255\n",
        "\n",
        "num_classes = 10\n",
        "print(y_train[0])\n",
        "y_train = keras.utils.to_categorical(y_train, num_classes)\n",
        "print(y_train[0])\n",
        "y_test = keras.utils.to_categorical(y_test, num_classes)"
      ],
      "execution_count": 3,
      "outputs": [
        {
          "output_type": "stream",
          "text": [
            "5\n",
            "[0. 0. 0. 0. 0. 1. 0. 0. 0. 0.]\n"
          ],
          "name": "stdout"
        }
      ]
    },
    {
      "cell_type": "code",
      "metadata": {
        "id": "VqnoK9TqJzqQ",
        "colab_type": "code",
        "colab": {
          "base_uri": "https://localhost:8080/",
          "height": 768
        },
        "outputId": "28e94634-3a84-447b-a274-a5c45c83f5b0"
      },
      "source": [
        "\"\"\"\n",
        "Create the NN model.\n",
        "\"\"\"\n",
        "from keras.models import Sequential\n",
        "from keras.layers import Dense\n",
        "from keras.optimizers import RMSprop\n",
        "\n",
        "model = Sequential()\n",
        "model.add( Dense(512, activation='relu', input_shape= (784,)) ) # hidden layer\n",
        "model.add( Dense(num_classes, activation='softmax') ) #output layer\n",
        "model.summary()\n",
        "model.compile( loss='categorical_crossentropy',\n",
        "               optimizer=RMSprop(),\n",
        "              metrics=['accuracy'] )\n",
        "history = model.fit( x_train, y_train,\n",
        "                    batch_size=128,\n",
        "                    epochs=10,\n",
        "                    verbose=1, \n",
        "                    validation_data=(x_test, y_test))\n",
        "score = model.evaluate(x_test, y_test, verbose=0)\n",
        "print(\"Test loss:\", score[0])\n",
        "print(\"Test accuracy:\", score[1])"
      ],
      "execution_count": 4,
      "outputs": [
        {
          "output_type": "stream",
          "text": [
            "W0821 13:22:06.617162 139670731638656 deprecation_wrapper.py:119] From /usr/local/lib/python3.6/dist-packages/keras/optimizers.py:790: The name tf.train.Optimizer is deprecated. Please use tf.compat.v1.train.Optimizer instead.\n",
            "\n",
            "W0821 13:22:06.631085 139670731638656 deprecation_wrapper.py:119] From /usr/local/lib/python3.6/dist-packages/keras/backend/tensorflow_backend.py:3295: The name tf.log is deprecated. Please use tf.math.log instead.\n",
            "\n"
          ],
          "name": "stderr"
        },
        {
          "output_type": "stream",
          "text": [
            "_________________________________________________________________\n",
            "Layer (type)                 Output Shape              Param #   \n",
            "=================================================================\n",
            "dense_2 (Dense)              (None, 512)               401920    \n",
            "_________________________________________________________________\n",
            "dense_3 (Dense)              (None, 10)                5130      \n",
            "=================================================================\n",
            "Total params: 407,050\n",
            "Trainable params: 407,050\n",
            "Non-trainable params: 0\n",
            "_________________________________________________________________\n"
          ],
          "name": "stdout"
        },
        {
          "output_type": "stream",
          "text": [
            "W0821 13:22:06.770822 139670731638656 deprecation.py:323] From /usr/local/lib/python3.6/dist-packages/tensorflow/python/ops/math_grad.py:1250: add_dispatch_support.<locals>.wrapper (from tensorflow.python.ops.array_ops) is deprecated and will be removed in a future version.\n",
            "Instructions for updating:\n",
            "Use tf.where in 2.0, which has the same broadcast rule as np.where\n",
            "W0821 13:22:06.853606 139670731638656 deprecation_wrapper.py:119] From /usr/local/lib/python3.6/dist-packages/keras/backend/tensorflow_backend.py:986: The name tf.assign_add is deprecated. Please use tf.compat.v1.assign_add instead.\n",
            "\n"
          ],
          "name": "stderr"
        },
        {
          "output_type": "stream",
          "text": [
            "Train on 60000 samples, validate on 10000 samples\n",
            "Epoch 1/10\n",
            "60000/60000 [==============================] - 6s 96us/step - loss: 0.2567 - acc: 0.9259 - val_loss: 0.1333 - val_acc: 0.9618\n",
            "Epoch 2/10\n",
            "60000/60000 [==============================] - 2s 35us/step - loss: 0.1038 - acc: 0.9694 - val_loss: 0.0863 - val_acc: 0.9745\n",
            "Epoch 3/10\n",
            "60000/60000 [==============================] - 2s 36us/step - loss: 0.0688 - acc: 0.9793 - val_loss: 0.0840 - val_acc: 0.9729\n",
            "Epoch 4/10\n",
            "60000/60000 [==============================] - 2s 36us/step - loss: 0.0499 - acc: 0.9851 - val_loss: 0.0724 - val_acc: 0.9784\n",
            "Epoch 5/10\n",
            "60000/60000 [==============================] - 2s 36us/step - loss: 0.0378 - acc: 0.9888 - val_loss: 0.0670 - val_acc: 0.9804\n",
            "Epoch 6/10\n",
            "60000/60000 [==============================] - 2s 36us/step - loss: 0.0286 - acc: 0.9913 - val_loss: 0.0684 - val_acc: 0.9793\n",
            "Epoch 7/10\n",
            "60000/60000 [==============================] - 2s 36us/step - loss: 0.0215 - acc: 0.9937 - val_loss: 0.0665 - val_acc: 0.9814\n",
            "Epoch 8/10\n",
            "60000/60000 [==============================] - 2s 36us/step - loss: 0.0166 - acc: 0.9952 - val_loss: 0.0720 - val_acc: 0.9794\n",
            "Epoch 9/10\n",
            "60000/60000 [==============================] - 2s 36us/step - loss: 0.0130 - acc: 0.9962 - val_loss: 0.0747 - val_acc: 0.9805\n",
            "Epoch 10/10\n",
            "60000/60000 [==============================] - 2s 36us/step - loss: 0.0100 - acc: 0.9973 - val_loss: 0.0708 - val_acc: 0.9821\n",
            "Test loss: 0.07084874711450356\n",
            "Test accuracy: 0.9821\n"
          ],
          "name": "stdout"
        }
      ]
    },
    {
      "cell_type": "code",
      "metadata": {
        "id": "sWgHIxTWKCXO",
        "colab_type": "code",
        "colab": {}
      },
      "source": [
        ""
      ],
      "execution_count": 0,
      "outputs": []
    }
  ]
}